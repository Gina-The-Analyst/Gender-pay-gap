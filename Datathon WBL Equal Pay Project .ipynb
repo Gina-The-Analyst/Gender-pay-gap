{
 "cells": [
  {
   "cell_type": "markdown",
   "id": "9c6ad525",
   "metadata": {},
   "source": [
    "# PREDICTING PAY WITH OTHER INDICATORS\n",
    "\n",
    "\n",
    "### FACTORS CONTRIBUTING TO GENDER PAY GAP IN 2022"
   ]
  },
  {
   "cell_type": "code",
   "execution_count": 1,
   "id": "8f12f8dc",
   "metadata": {},
   "outputs": [],
   "source": [
    "from matplotlib import pyplot as plt\n",
    "import numpy as np\n",
    "import pandas as pd\n",
    "import seaborn as sns\n",
    "import plotly.express as px\n",
    "from sklearn.linear_model import LinearRegression\n",
    "from sklearn.metrics import mean_absolute_error\n",
    "from sklearn.pipeline import make_pipeline\n",
    "from category_encoders import OneHotEncoder"
   ]
  },
  {
   "cell_type": "code",
   "execution_count": 2,
   "id": "ef723812",
   "metadata": {},
   "outputs": [],
   "source": [
    "df=pd.read_csv('WBL 2022.csv')"
   ]
  },
  {
   "cell_type": "code",
   "execution_count": 3,
   "id": "7fdf6abe",
   "metadata": {},
   "outputs": [
    {
     "data": {
      "text/html": [
       "<div>\n",
       "<style scoped>\n",
       "    .dataframe tbody tr th:only-of-type {\n",
       "        vertical-align: middle;\n",
       "    }\n",
       "\n",
       "    .dataframe tbody tr th {\n",
       "        vertical-align: top;\n",
       "    }\n",
       "\n",
       "    .dataframe thead th {\n",
       "        text-align: right;\n",
       "    }\n",
       "</style>\n",
       "<table border=\"1\" class=\"dataframe\">\n",
       "  <thead>\n",
       "    <tr style=\"text-align: right;\">\n",
       "      <th></th>\n",
       "      <th>Economy</th>\n",
       "      <th>Economy Code</th>\n",
       "      <th>ISO Code</th>\n",
       "      <th>Region</th>\n",
       "      <th>Income Group</th>\n",
       "      <th>Report Year</th>\n",
       "      <th>WBL INDEX</th>\n",
       "      <th>MOBILITY</th>\n",
       "      <th>WORKPLACE</th>\n",
       "      <th>PAY</th>\n",
       "      <th>MARRIAGE</th>\n",
       "      <th>PARENTHOOD</th>\n",
       "      <th>Days for the mother</th>\n",
       "      <th>Days for the father</th>\n",
       "      <th>ENTREPRENEURSHIP</th>\n",
       "      <th>ASSETS</th>\n",
       "      <th>PENSION</th>\n",
       "    </tr>\n",
       "  </thead>\n",
       "  <tbody>\n",
       "    <tr>\n",
       "      <th>0</th>\n",
       "      <td>Afghanistan</td>\n",
       "      <td>AFG</td>\n",
       "      <td>AFG</td>\n",
       "      <td>South Asia</td>\n",
       "      <td>Low income</td>\n",
       "      <td>2022</td>\n",
       "      <td>38.1</td>\n",
       "      <td>50</td>\n",
       "      <td>75</td>\n",
       "      <td>0</td>\n",
       "      <td>20</td>\n",
       "      <td>20</td>\n",
       "      <td>0</td>\n",
       "      <td>0</td>\n",
       "      <td>75</td>\n",
       "      <td>40</td>\n",
       "      <td>25</td>\n",
       "    </tr>\n",
       "    <tr>\n",
       "      <th>1</th>\n",
       "      <td>Albania</td>\n",
       "      <td>ALB</td>\n",
       "      <td>ALB</td>\n",
       "      <td>Europe &amp; Central Asia</td>\n",
       "      <td>Upper middle income</td>\n",
       "      <td>2022</td>\n",
       "      <td>91.3</td>\n",
       "      <td>100</td>\n",
       "      <td>100</td>\n",
       "      <td>100</td>\n",
       "      <td>100</td>\n",
       "      <td>80</td>\n",
       "      <td>0</td>\n",
       "      <td>0</td>\n",
       "      <td>100</td>\n",
       "      <td>100</td>\n",
       "      <td>50</td>\n",
       "    </tr>\n",
       "    <tr>\n",
       "      <th>2</th>\n",
       "      <td>Algeria</td>\n",
       "      <td>DZA</td>\n",
       "      <td>DZA</td>\n",
       "      <td>Middle East &amp; North Africa</td>\n",
       "      <td>Lower middle income</td>\n",
       "      <td>2022</td>\n",
       "      <td>57.5</td>\n",
       "      <td>75</td>\n",
       "      <td>75</td>\n",
       "      <td>50</td>\n",
       "      <td>60</td>\n",
       "      <td>60</td>\n",
       "      <td>0</td>\n",
       "      <td>0</td>\n",
       "      <td>75</td>\n",
       "      <td>40</td>\n",
       "      <td>25</td>\n",
       "    </tr>\n",
       "    <tr>\n",
       "      <th>3</th>\n",
       "      <td>Angola</td>\n",
       "      <td>AGO</td>\n",
       "      <td>AGO</td>\n",
       "      <td>Sub-Saharan Africa</td>\n",
       "      <td>Lower middle income</td>\n",
       "      <td>2022</td>\n",
       "      <td>79.4</td>\n",
       "      <td>100</td>\n",
       "      <td>100</td>\n",
       "      <td>50</td>\n",
       "      <td>100</td>\n",
       "      <td>60</td>\n",
       "      <td>0</td>\n",
       "      <td>0</td>\n",
       "      <td>100</td>\n",
       "      <td>100</td>\n",
       "      <td>25</td>\n",
       "    </tr>\n",
       "    <tr>\n",
       "      <th>4</th>\n",
       "      <td>Antigua and Barbuda</td>\n",
       "      <td>ATG</td>\n",
       "      <td>ATG</td>\n",
       "      <td>Latin America &amp; Caribbean</td>\n",
       "      <td>High income</td>\n",
       "      <td>2022</td>\n",
       "      <td>66.3</td>\n",
       "      <td>75</td>\n",
       "      <td>50</td>\n",
       "      <td>75</td>\n",
       "      <td>100</td>\n",
       "      <td>0</td>\n",
       "      <td>0</td>\n",
       "      <td>0</td>\n",
       "      <td>75</td>\n",
       "      <td>80</td>\n",
       "      <td>75</td>\n",
       "    </tr>\n",
       "  </tbody>\n",
       "</table>\n",
       "</div>"
      ],
      "text/plain": [
       "               Economy Economy Code ISO Code                      Region  \\\n",
       "0          Afghanistan          AFG      AFG                  South Asia   \n",
       "1              Albania          ALB      ALB       Europe & Central Asia   \n",
       "2              Algeria          DZA      DZA  Middle East & North Africa   \n",
       "3               Angola          AGO      AGO          Sub-Saharan Africa   \n",
       "4  Antigua and Barbuda          ATG      ATG   Latin America & Caribbean   \n",
       "\n",
       "          Income Group  Report Year  WBL INDEX  MOBILITY  WORKPLACE  PAY  \\\n",
       "0           Low income         2022       38.1        50         75    0   \n",
       "1  Upper middle income         2022       91.3       100        100  100   \n",
       "2  Lower middle income         2022       57.5        75         75   50   \n",
       "3  Lower middle income         2022       79.4       100        100   50   \n",
       "4          High income         2022       66.3        75         50   75   \n",
       "\n",
       "   MARRIAGE  PARENTHOOD  Days for the mother  Days for the father  \\\n",
       "0        20          20                    0                    0   \n",
       "1       100          80                    0                    0   \n",
       "2        60          60                    0                    0   \n",
       "3       100          60                    0                    0   \n",
       "4       100           0                    0                    0   \n",
       "\n",
       "   ENTREPRENEURSHIP  ASSETS  PENSION  \n",
       "0                75      40       25  \n",
       "1               100     100       50  \n",
       "2                75      40       25  \n",
       "3               100     100       25  \n",
       "4                75      80       75  "
      ]
     },
     "execution_count": 3,
     "metadata": {},
     "output_type": "execute_result"
    }
   ],
   "source": [
    "df.head()"
   ]
  },
  {
   "cell_type": "code",
   "execution_count": 4,
   "id": "30eeb8f7",
   "metadata": {},
   "outputs": [
    {
     "data": {
      "text/plain": [
       "(190, 17)"
      ]
     },
     "execution_count": 4,
     "metadata": {},
     "output_type": "execute_result"
    }
   ],
   "source": [
    "df.shape"
   ]
  },
  {
   "cell_type": "code",
   "execution_count": 5,
   "id": "40542a99",
   "metadata": {},
   "outputs": [],
   "source": [
    "# Dropping some irrelivant columns\n",
    "df.drop(columns=['Economy Code','Report Year','Days for the mother','Days for the father'],inplace=True)\n"
   ]
  },
  {
   "cell_type": "code",
   "execution_count": 6,
   "id": "03c4d8c0",
   "metadata": {},
   "outputs": [
    {
     "data": {
      "text/html": [
       "<div>\n",
       "<style scoped>\n",
       "    .dataframe tbody tr th:only-of-type {\n",
       "        vertical-align: middle;\n",
       "    }\n",
       "\n",
       "    .dataframe tbody tr th {\n",
       "        vertical-align: top;\n",
       "    }\n",
       "\n",
       "    .dataframe thead th {\n",
       "        text-align: right;\n",
       "    }\n",
       "</style>\n",
       "<table border=\"1\" class=\"dataframe\">\n",
       "  <thead>\n",
       "    <tr style=\"text-align: right;\">\n",
       "      <th></th>\n",
       "      <th>Economy</th>\n",
       "      <th>ISO Code</th>\n",
       "      <th>Region</th>\n",
       "      <th>Income Group</th>\n",
       "      <th>WBL INDEX</th>\n",
       "      <th>MOBILITY</th>\n",
       "      <th>WORKPLACE</th>\n",
       "      <th>PAY</th>\n",
       "      <th>MARRIAGE</th>\n",
       "      <th>PARENTHOOD</th>\n",
       "      <th>ENTREPRENEURSHIP</th>\n",
       "      <th>ASSETS</th>\n",
       "      <th>PENSION</th>\n",
       "    </tr>\n",
       "  </thead>\n",
       "  <tbody>\n",
       "    <tr>\n",
       "      <th>0</th>\n",
       "      <td>Afghanistan</td>\n",
       "      <td>AFG</td>\n",
       "      <td>South Asia</td>\n",
       "      <td>Low income</td>\n",
       "      <td>38.1</td>\n",
       "      <td>50</td>\n",
       "      <td>75</td>\n",
       "      <td>0</td>\n",
       "      <td>20</td>\n",
       "      <td>20</td>\n",
       "      <td>75</td>\n",
       "      <td>40</td>\n",
       "      <td>25</td>\n",
       "    </tr>\n",
       "    <tr>\n",
       "      <th>1</th>\n",
       "      <td>Albania</td>\n",
       "      <td>ALB</td>\n",
       "      <td>Europe &amp; Central Asia</td>\n",
       "      <td>Upper middle income</td>\n",
       "      <td>91.3</td>\n",
       "      <td>100</td>\n",
       "      <td>100</td>\n",
       "      <td>100</td>\n",
       "      <td>100</td>\n",
       "      <td>80</td>\n",
       "      <td>100</td>\n",
       "      <td>100</td>\n",
       "      <td>50</td>\n",
       "    </tr>\n",
       "    <tr>\n",
       "      <th>2</th>\n",
       "      <td>Algeria</td>\n",
       "      <td>DZA</td>\n",
       "      <td>Middle East &amp; North Africa</td>\n",
       "      <td>Lower middle income</td>\n",
       "      <td>57.5</td>\n",
       "      <td>75</td>\n",
       "      <td>75</td>\n",
       "      <td>50</td>\n",
       "      <td>60</td>\n",
       "      <td>60</td>\n",
       "      <td>75</td>\n",
       "      <td>40</td>\n",
       "      <td>25</td>\n",
       "    </tr>\n",
       "    <tr>\n",
       "      <th>3</th>\n",
       "      <td>Angola</td>\n",
       "      <td>AGO</td>\n",
       "      <td>Sub-Saharan Africa</td>\n",
       "      <td>Lower middle income</td>\n",
       "      <td>79.4</td>\n",
       "      <td>100</td>\n",
       "      <td>100</td>\n",
       "      <td>50</td>\n",
       "      <td>100</td>\n",
       "      <td>60</td>\n",
       "      <td>100</td>\n",
       "      <td>100</td>\n",
       "      <td>25</td>\n",
       "    </tr>\n",
       "    <tr>\n",
       "      <th>4</th>\n",
       "      <td>Antigua and Barbuda</td>\n",
       "      <td>ATG</td>\n",
       "      <td>Latin America &amp; Caribbean</td>\n",
       "      <td>High income</td>\n",
       "      <td>66.3</td>\n",
       "      <td>75</td>\n",
       "      <td>50</td>\n",
       "      <td>75</td>\n",
       "      <td>100</td>\n",
       "      <td>0</td>\n",
       "      <td>75</td>\n",
       "      <td>80</td>\n",
       "      <td>75</td>\n",
       "    </tr>\n",
       "  </tbody>\n",
       "</table>\n",
       "</div>"
      ],
      "text/plain": [
       "               Economy ISO Code                      Region  \\\n",
       "0          Afghanistan      AFG                  South Asia   \n",
       "1              Albania      ALB       Europe & Central Asia   \n",
       "2              Algeria      DZA  Middle East & North Africa   \n",
       "3               Angola      AGO          Sub-Saharan Africa   \n",
       "4  Antigua and Barbuda      ATG   Latin America & Caribbean   \n",
       "\n",
       "          Income Group  WBL INDEX  MOBILITY  WORKPLACE  PAY  MARRIAGE  \\\n",
       "0           Low income       38.1        50         75    0        20   \n",
       "1  Upper middle income       91.3       100        100  100       100   \n",
       "2  Lower middle income       57.5        75         75   50        60   \n",
       "3  Lower middle income       79.4       100        100   50       100   \n",
       "4          High income       66.3        75         50   75       100   \n",
       "\n",
       "   PARENTHOOD  ENTREPRENEURSHIP  ASSETS  PENSION  \n",
       "0          20                75      40       25  \n",
       "1          80               100     100       50  \n",
       "2          60                75      40       25  \n",
       "3          60               100     100       25  \n",
       "4           0                75      80       75  "
      ]
     },
     "execution_count": 6,
     "metadata": {},
     "output_type": "execute_result"
    }
   ],
   "source": [
    "df.head()"
   ]
  },
  {
   "cell_type": "code",
   "execution_count": 7,
   "id": "55c751a5",
   "metadata": {
    "scrolled": true
   },
   "outputs": [
    {
     "data": {
      "text/html": [
       "<div>\n",
       "<style scoped>\n",
       "    .dataframe tbody tr th:only-of-type {\n",
       "        vertical-align: middle;\n",
       "    }\n",
       "\n",
       "    .dataframe tbody tr th {\n",
       "        vertical-align: top;\n",
       "    }\n",
       "\n",
       "    .dataframe thead th {\n",
       "        text-align: right;\n",
       "    }\n",
       "</style>\n",
       "<table border=\"1\" class=\"dataframe\">\n",
       "  <thead>\n",
       "    <tr style=\"text-align: right;\">\n",
       "      <th></th>\n",
       "      <th>WBL INDEX</th>\n",
       "      <th>MOBILITY</th>\n",
       "      <th>WORKPLACE</th>\n",
       "      <th>PAY</th>\n",
       "      <th>MARRIAGE</th>\n",
       "      <th>PARENTHOOD</th>\n",
       "      <th>ENTREPRENEURSHIP</th>\n",
       "      <th>ASSETS</th>\n",
       "      <th>PENSION</th>\n",
       "    </tr>\n",
       "  </thead>\n",
       "  <tbody>\n",
       "    <tr>\n",
       "      <th>count</th>\n",
       "      <td>190.000000</td>\n",
       "      <td>190.000000</td>\n",
       "      <td>190.000000</td>\n",
       "      <td>190.000000</td>\n",
       "      <td>190.000000</td>\n",
       "      <td>190.000000</td>\n",
       "      <td>190.000000</td>\n",
       "      <td>190.000000</td>\n",
       "      <td>190.000000</td>\n",
       "    </tr>\n",
       "    <tr>\n",
       "      <th>mean</th>\n",
       "      <td>76.560526</td>\n",
       "      <td>88.552632</td>\n",
       "      <td>80.526316</td>\n",
       "      <td>68.684211</td>\n",
       "      <td>80.105263</td>\n",
       "      <td>55.578947</td>\n",
       "      <td>84.342105</td>\n",
       "      <td>81.157895</td>\n",
       "      <td>73.421053</td>\n",
       "    </tr>\n",
       "    <tr>\n",
       "      <th>std</th>\n",
       "      <td>17.015600</td>\n",
       "      <td>20.984622</td>\n",
       "      <td>29.022648</td>\n",
       "      <td>29.873725</td>\n",
       "      <td>27.487168</td>\n",
       "      <td>31.629997</td>\n",
       "      <td>17.104219</td>\n",
       "      <td>26.760278</td>\n",
       "      <td>25.924832</td>\n",
       "    </tr>\n",
       "    <tr>\n",
       "      <th>min</th>\n",
       "      <td>26.300000</td>\n",
       "      <td>0.000000</td>\n",
       "      <td>0.000000</td>\n",
       "      <td>0.000000</td>\n",
       "      <td>0.000000</td>\n",
       "      <td>0.000000</td>\n",
       "      <td>0.000000</td>\n",
       "      <td>0.000000</td>\n",
       "      <td>0.000000</td>\n",
       "    </tr>\n",
       "    <tr>\n",
       "      <th>25%</th>\n",
       "      <td>67.050000</td>\n",
       "      <td>75.000000</td>\n",
       "      <td>50.000000</td>\n",
       "      <td>50.000000</td>\n",
       "      <td>60.000000</td>\n",
       "      <td>40.000000</td>\n",
       "      <td>75.000000</td>\n",
       "      <td>60.000000</td>\n",
       "      <td>50.000000</td>\n",
       "    </tr>\n",
       "    <tr>\n",
       "      <th>50%</th>\n",
       "      <td>80.000000</td>\n",
       "      <td>100.000000</td>\n",
       "      <td>100.000000</td>\n",
       "      <td>75.000000</td>\n",
       "      <td>100.000000</td>\n",
       "      <td>60.000000</td>\n",
       "      <td>75.000000</td>\n",
       "      <td>100.000000</td>\n",
       "      <td>75.000000</td>\n",
       "    </tr>\n",
       "    <tr>\n",
       "      <th>75%</th>\n",
       "      <td>88.100000</td>\n",
       "      <td>100.000000</td>\n",
       "      <td>100.000000</td>\n",
       "      <td>100.000000</td>\n",
       "      <td>100.000000</td>\n",
       "      <td>80.000000</td>\n",
       "      <td>100.000000</td>\n",
       "      <td>100.000000</td>\n",
       "      <td>100.000000</td>\n",
       "    </tr>\n",
       "    <tr>\n",
       "      <th>max</th>\n",
       "      <td>100.000000</td>\n",
       "      <td>100.000000</td>\n",
       "      <td>100.000000</td>\n",
       "      <td>100.000000</td>\n",
       "      <td>100.000000</td>\n",
       "      <td>100.000000</td>\n",
       "      <td>100.000000</td>\n",
       "      <td>100.000000</td>\n",
       "      <td>100.000000</td>\n",
       "    </tr>\n",
       "  </tbody>\n",
       "</table>\n",
       "</div>"
      ],
      "text/plain": [
       "        WBL INDEX    MOBILITY   WORKPLACE         PAY    MARRIAGE  PARENTHOOD  \\\n",
       "count  190.000000  190.000000  190.000000  190.000000  190.000000  190.000000   \n",
       "mean    76.560526   88.552632   80.526316   68.684211   80.105263   55.578947   \n",
       "std     17.015600   20.984622   29.022648   29.873725   27.487168   31.629997   \n",
       "min     26.300000    0.000000    0.000000    0.000000    0.000000    0.000000   \n",
       "25%     67.050000   75.000000   50.000000   50.000000   60.000000   40.000000   \n",
       "50%     80.000000  100.000000  100.000000   75.000000  100.000000   60.000000   \n",
       "75%     88.100000  100.000000  100.000000  100.000000  100.000000   80.000000   \n",
       "max    100.000000  100.000000  100.000000  100.000000  100.000000  100.000000   \n",
       "\n",
       "       ENTREPRENEURSHIP      ASSETS     PENSION  \n",
       "count        190.000000  190.000000  190.000000  \n",
       "mean          84.342105   81.157895   73.421053  \n",
       "std           17.104219   26.760278   25.924832  \n",
       "min            0.000000    0.000000    0.000000  \n",
       "25%           75.000000   60.000000   50.000000  \n",
       "50%           75.000000  100.000000   75.000000  \n",
       "75%          100.000000  100.000000  100.000000  \n",
       "max          100.000000  100.000000  100.000000  "
      ]
     },
     "execution_count": 7,
     "metadata": {},
     "output_type": "execute_result"
    }
   ],
   "source": [
    "df.describe()"
   ]
  },
  {
   "cell_type": "code",
   "execution_count": 8,
   "id": "1bbfec97",
   "metadata": {
    "scrolled": true
   },
   "outputs": [
    {
     "data": {
      "text/plain": [
       "(190, 13)"
      ]
     },
     "execution_count": 8,
     "metadata": {},
     "output_type": "execute_result"
    }
   ],
   "source": [
    "df.shape"
   ]
  },
  {
   "cell_type": "code",
   "execution_count": 9,
   "id": "b57ac51e",
   "metadata": {},
   "outputs": [],
   "source": [
    "mean_indicator = df[['MOBILITY', 'WORKPLACE', 'PAY', 'MARRIAGE', 'PARENTHOOD', 'ENTREPRENEURSHIP',\n",
    "                     'ASSETS', 'PENSION']].mean().sort_values(ascending=False)\n",
    "mean_WBL_index = df[\"WBL INDEX\"].mean()"
   ]
  },
  {
   "cell_type": "code",
   "execution_count": 10,
   "id": "03798e96",
   "metadata": {
    "scrolled": true
   },
   "outputs": [
    {
     "data": {
      "text/plain": [
       "76.56052631578939"
      ]
     },
     "execution_count": 10,
     "metadata": {},
     "output_type": "execute_result"
    }
   ],
   "source": [
    "mean_WBL_index"
   ]
  },
  {
   "cell_type": "code",
   "execution_count": 11,
   "id": "7e2fe127",
   "metadata": {},
   "outputs": [
    {
     "data": {
      "image/png": "[encoded data removed]",
      "text/plain": [
       "<Figure size 576x360 with 1 Axes>"
      ]
     },
     "metadata": {
      "needs_background": "light"
     },
     "output_type": "display_data"
    }
   ],
   "source": [
    "plt.figure(figsize=(8,5))\n",
    "mean_indicator.plot(kind='bar')\n",
    "plt.axhline(mean_WBL_index, linestyle='--', color='r', label='Global average 76.5')\n",
    "plt.xlabel('Indicators')\n",
    "plt.ylabel('WBL Index')\n",
    "plt.title('Average WBL scores by indicator');"
   ]
  },
  {
   "cell_type": "code",
   "execution_count": 12,
   "id": "1aee0810",
   "metadata": {},
   "outputs": [
    {
     "name": "stdout",
     "output_type": "stream",
     "text": [
      "Income Group\n",
      "High income            86.364912\n",
      "Upper middle income    77.896154\n",
      "Lower middle income    70.354545\n",
      "Low income             65.523077\n",
      "Name: WBL INDEX, dtype: float64\n"
     ]
    },
    {
     "data": {
      "image/png": "[encoded data removed]",
      "text/plain": [
       "<Figure size 576x360 with 1 Axes>"
      ]
     },
     "metadata": {
      "needs_background": "light"
     },
     "output_type": "display_data"
    }
   ],
   "source": [
    "plt.figure(figsize=(8,5))\n",
    "mean_pay_by_income_group = df.groupby('Income Group')['WBL INDEX'].mean().sort_values(ascending=False)\n",
    "print(mean_pay_by_income_group)\n",
    "mean_pay_by_income_group.plot(kind='bar')\n",
    "plt.xlabel('Income Group')\n",
    "plt.ylabel('Wbl Index')\n",
    "plt.title('Mean WBL Scores by Income Group')\n",
    "plt.show()"
   ]
  },
  {
   "cell_type": "markdown",
   "id": "e1c7b9f2",
   "metadata": {},
   "source": [
    "### EXPLORE"
   ]
  },
  {
   "cell_type": "code",
   "execution_count": 13,
   "id": "023d0dba",
   "metadata": {},
   "outputs": [],
   "source": [
    "# Drop leaky columns\n",
    "df.drop(columns='WBL INDEX', inplace=True)"
   ]
  },
  {
   "cell_type": "code",
   "execution_count": 14,
   "id": "ed0422c6",
   "metadata": {},
   "outputs": [
    {
     "data": {
      "text/html": [
       "<div>\n",
       "<style scoped>\n",
       "    .dataframe tbody tr th:only-of-type {\n",
       "        vertical-align: middle;\n",
       "    }\n",
       "\n",
       "    .dataframe tbody tr th {\n",
       "        vertical-align: top;\n",
       "    }\n",
       "\n",
       "    .dataframe thead th {\n",
       "        text-align: right;\n",
       "    }\n",
       "</style>\n",
       "<table border=\"1\" class=\"dataframe\">\n",
       "  <thead>\n",
       "    <tr style=\"text-align: right;\">\n",
       "      <th></th>\n",
       "      <th>MOBILITY</th>\n",
       "      <th>WORKPLACE</th>\n",
       "      <th>PAY</th>\n",
       "      <th>MARRIAGE</th>\n",
       "      <th>PARENTHOOD</th>\n",
       "      <th>ENTREPRENEURSHIP</th>\n",
       "      <th>ASSETS</th>\n",
       "      <th>PENSION</th>\n",
       "    </tr>\n",
       "  </thead>\n",
       "  <tbody>\n",
       "    <tr>\n",
       "      <th>0</th>\n",
       "      <td>50</td>\n",
       "      <td>75</td>\n",
       "      <td>0</td>\n",
       "      <td>20</td>\n",
       "      <td>20</td>\n",
       "      <td>75</td>\n",
       "      <td>40</td>\n",
       "      <td>25</td>\n",
       "    </tr>\n",
       "    <tr>\n",
       "      <th>1</th>\n",
       "      <td>100</td>\n",
       "      <td>100</td>\n",
       "      <td>100</td>\n",
       "      <td>100</td>\n",
       "      <td>80</td>\n",
       "      <td>100</td>\n",
       "      <td>100</td>\n",
       "      <td>50</td>\n",
       "    </tr>\n",
       "    <tr>\n",
       "      <th>2</th>\n",
       "      <td>75</td>\n",
       "      <td>75</td>\n",
       "      <td>50</td>\n",
       "      <td>60</td>\n",
       "      <td>60</td>\n",
       "      <td>75</td>\n",
       "      <td>40</td>\n",
       "      <td>25</td>\n",
       "    </tr>\n",
       "    <tr>\n",
       "      <th>3</th>\n",
       "      <td>100</td>\n",
       "      <td>100</td>\n",
       "      <td>50</td>\n",
       "      <td>100</td>\n",
       "      <td>60</td>\n",
       "      <td>100</td>\n",
       "      <td>100</td>\n",
       "      <td>25</td>\n",
       "    </tr>\n",
       "    <tr>\n",
       "      <th>4</th>\n",
       "      <td>75</td>\n",
       "      <td>50</td>\n",
       "      <td>75</td>\n",
       "      <td>100</td>\n",
       "      <td>0</td>\n",
       "      <td>75</td>\n",
       "      <td>80</td>\n",
       "      <td>75</td>\n",
       "    </tr>\n",
       "    <tr>\n",
       "      <th>...</th>\n",
       "      <td>...</td>\n",
       "      <td>...</td>\n",
       "      <td>...</td>\n",
       "      <td>...</td>\n",
       "      <td>...</td>\n",
       "      <td>...</td>\n",
       "      <td>...</td>\n",
       "      <td>...</td>\n",
       "    </tr>\n",
       "    <tr>\n",
       "      <th>185</th>\n",
       "      <td>100</td>\n",
       "      <td>100</td>\n",
       "      <td>100</td>\n",
       "      <td>100</td>\n",
       "      <td>80</td>\n",
       "      <td>100</td>\n",
       "      <td>100</td>\n",
       "      <td>0</td>\n",
       "    </tr>\n",
       "    <tr>\n",
       "      <th>186</th>\n",
       "      <td>25</td>\n",
       "      <td>25</td>\n",
       "      <td>0</td>\n",
       "      <td>20</td>\n",
       "      <td>0</td>\n",
       "      <td>75</td>\n",
       "      <td>40</td>\n",
       "      <td>25</td>\n",
       "    </tr>\n",
       "    <tr>\n",
       "      <th>187</th>\n",
       "      <td>25</td>\n",
       "      <td>25</td>\n",
       "      <td>25</td>\n",
       "      <td>0</td>\n",
       "      <td>0</td>\n",
       "      <td>75</td>\n",
       "      <td>40</td>\n",
       "      <td>25</td>\n",
       "    </tr>\n",
       "    <tr>\n",
       "      <th>188</th>\n",
       "      <td>75</td>\n",
       "      <td>100</td>\n",
       "      <td>100</td>\n",
       "      <td>80</td>\n",
       "      <td>40</td>\n",
       "      <td>100</td>\n",
       "      <td>80</td>\n",
       "      <td>75</td>\n",
       "    </tr>\n",
       "    <tr>\n",
       "      <th>189</th>\n",
       "      <td>100</td>\n",
       "      <td>100</td>\n",
       "      <td>75</td>\n",
       "      <td>80</td>\n",
       "      <td>40</td>\n",
       "      <td>100</td>\n",
       "      <td>100</td>\n",
       "      <td>100</td>\n",
       "    </tr>\n",
       "  </tbody>\n",
       "</table>\n",
       "<p>190 rows × 8 columns</p>\n",
       "</div>"
      ],
      "text/plain": [
       "     MOBILITY  WORKPLACE  PAY  MARRIAGE  PARENTHOOD  ENTREPRENEURSHIP  ASSETS  \\\n",
       "0          50         75    0        20          20                75      40   \n",
       "1         100        100  100       100          80               100     100   \n",
       "2          75         75   50        60          60                75      40   \n",
       "3         100        100   50       100          60               100     100   \n",
       "4          75         50   75       100           0                75      80   \n",
       "..        ...        ...  ...       ...         ...               ...     ...   \n",
       "185       100        100  100       100          80               100     100   \n",
       "186        25         25    0        20           0                75      40   \n",
       "187        25         25   25         0           0                75      40   \n",
       "188        75        100  100        80          40               100      80   \n",
       "189       100        100   75        80          40               100     100   \n",
       "\n",
       "     PENSION  \n",
       "0         25  \n",
       "1         50  \n",
       "2         25  \n",
       "3         25  \n",
       "4         75  \n",
       "..       ...  \n",
       "185        0  \n",
       "186       25  \n",
       "187       25  \n",
       "188       75  \n",
       "189      100  \n",
       "\n",
       "[190 rows x 8 columns]"
      ]
     },
     "execution_count": 14,
     "metadata": {},
     "output_type": "execute_result"
    }
   ],
   "source": [
    "# Drop low- and high cardinality categorical features\n",
    "df.drop(columns=['Economy','ISO Code','Region','Income Group'])"
   ]
  },
  {
   "cell_type": "code",
   "execution_count": 15,
   "id": "1625217e",
   "metadata": {},
   "outputs": [
    {
     "data": {
      "text/plain": [
       "<AxesSubplot:>"
      ]
     },
     "execution_count": 15,
     "metadata": {},
     "output_type": "execute_result"
    },
    {
     "data": {
      "image/png": "[encoded data removed]",
      "text/plain": [
       "<Figure size 720x504 with 2 Axes>"
      ]
     },
     "metadata": {
      "needs_background": "light"
     },
     "output_type": "display_data"
    }
   ],
   "source": [
    "plt.figure(figsize=(10,7))\n",
    "corr = df.drop(columns = ['PAY']).corr()\n",
    "sns.heatmap(corr)"
   ]
  },
  {
   "cell_type": "code",
   "execution_count": 16,
   "id": "c2101e99",
   "metadata": {},
   "outputs": [
    {
     "name": "stdout",
     "output_type": "stream",
     "text": [
      "corr1: 0.2507706840182654\n",
      "corr2: 0.3713125898715267\n",
      "corr3: 0.3746405592499393\n"
     ]
    }
   ],
   "source": [
    "print('corr1:', df['PAY'].corr(df['ASSETS']))\n",
    "print('corr2:', df['PAY'].corr(df['MARRIAGE']))\n",
    "print('corr3:', df['PAY'].corr(df['MOBILITY']))"
   ]
  },
  {
   "cell_type": "code",
   "execution_count": 17,
   "id": "bfe905ea",
   "metadata": {},
   "outputs": [],
   "source": [
    "# Drop multicollinearity columns\n",
    "df.drop(columns=['ASSETS', 'MARRIAGE'], inplace=True)"
   ]
  },
  {
   "cell_type": "markdown",
   "id": "9bba23e2",
   "metadata": {},
   "source": [
    "### SPLIT"
   ]
  },
  {
   "cell_type": "code",
   "execution_count": 18,
   "id": "fb28ba26",
   "metadata": {},
   "outputs": [],
   "source": [
    "target = 'PAY'\n",
    "features = ['MOBILITY', 'WORKPLACE', 'PARENTHOOD', 'ENTREPRENEURSHIP', 'PENSION']\n",
    "X_train = df[features]\n",
    "y_train = df[target]"
   ]
  },
  {
   "cell_type": "markdown",
   "id": "888f6b25",
   "metadata": {},
   "source": [
    "## BUILD MODEL\n",
    "\n",
    "\n",
    "### BASELINE"
   ]
  },
  {
   "cell_type": "code",
   "execution_count": 19,
   "id": "3f4ff4b2",
   "metadata": {},
   "outputs": [
    {
     "name": "stdout",
     "output_type": "stream",
     "text": [
      "Mean Pay: 68.68\n",
      "Baselie MAE: 25.34\n"
     ]
    }
   ],
   "source": [
    "y_mean = y_train.mean()\n",
    "y_pred_baseline = [y_mean] * len(y_train)\n",
    "mae_baseline = mean_absolute_error(y_train, y_pred_baseline)\n",
    "print('Mean Pay:', round(y_mean, 2))\n",
    "print('Baselie MAE:', round(mae_baseline, 2))"
   ]
  },
  {
   "cell_type": "markdown",
   "id": "34c1a336",
   "metadata": {},
   "source": [
    "### ITERATE"
   ]
  },
  {
   "cell_type": "code",
   "execution_count": 20,
   "id": "4d603910",
   "metadata": {},
   "outputs": [
    {
     "name": "stdout",
     "output_type": "stream",
     "text": [
      "Warning: No categorical columns found. Calling 'transform' will only return input data.\n"
     ]
    },
    {
     "data": {
      "text/plain": [
       "Pipeline(steps=[('onehotencoder', OneHotEncoder(cols=[], use_cat_names=True)),\n",
       "                ('linearregression', LinearRegression())])"
      ]
     },
     "execution_count": 20,
     "metadata": {},
     "output_type": "execute_result"
    }
   ],
   "source": [
    "model = make_pipeline(\n",
    "    OneHotEncoder(use_cat_names=True),\n",
    "    LinearRegression()\n",
    ")\n",
    "model.fit(X_train, y_train)"
   ]
  },
  {
   "cell_type": "markdown",
   "id": "e4692304",
   "metadata": {},
   "source": [
    "### EVALUATE"
   ]
  },
  {
   "cell_type": "code",
   "execution_count": 21,
   "id": "6df9e424",
   "metadata": {},
   "outputs": [
    {
     "name": "stdout",
     "output_type": "stream",
     "text": [
      "Training MAE: 21.32\n"
     ]
    }
   ],
   "source": [
    "y_pred_training = model.predict(X_train)\n",
    "mae_training = mean_absolute_error(y_train, y_pred_training)\n",
    "print('Training MAE:', round(mae_training, 2))"
   ]
  },
  {
   "cell_type": "markdown",
   "id": "dc82f575",
   "metadata": {},
   "source": [
    "### Our model beats the baseline by 4.02! That's a good indicator that will be helpful in predicting pay"
   ]
  },
  {
   "cell_type": "markdown",
   "id": "feb0e55c",
   "metadata": {},
   "source": [
    "## COMMUNICATE RESULTS"
   ]
  },
  {
   "cell_type": "code",
   "execution_count": 22,
   "id": "b363b252",
   "metadata": {},
   "outputs": [
    {
     "name": "stdout",
     "output_type": "stream",
     "text": [
      "[0.27949568 0.19851617 0.10444824 0.12486567 0.13629413]\n"
     ]
    }
   ],
   "source": [
    "# Extract the intercepts from the model and assign to the variable intercepts\n",
    "intercept = model.named_steps['linearregression'].intercept_\n",
    "coefficients = model.named_steps['linearregression'].coef_\n",
    "print(coefficients)"
   ]
  },
  {
   "cell_type": "code",
   "execution_count": 23,
   "id": "78599d5c",
   "metadata": {},
   "outputs": [
    {
     "data": {
      "text/plain": [
       "['MOBILITY', 'WORKPLACE', 'PARENTHOOD', 'ENTREPRENEURSHIP', 'PENSION']"
      ]
     },
     "execution_count": 23,
     "metadata": {},
     "output_type": "execute_result"
    }
   ],
   "source": [
    "# Extract feature names\n",
    "feature_names = model.named_steps['onehotencoder'].get_feature_names()\n",
    "feature_names"
   ]
  },
  {
   "cell_type": "code",
   "execution_count": 24,
   "id": "f382aef3",
   "metadata": {},
   "outputs": [
    {
     "data": {
      "text/plain": [
       "MOBILITY            0.279496\n",
       "WORKPLACE           0.198516\n",
       "PARENTHOOD          0.104448\n",
       "ENTREPRENEURSHIP    0.124866\n",
       "PENSION             0.136294\n",
       "dtype: float64"
      ]
     },
     "execution_count": 24,
     "metadata": {},
     "output_type": "execute_result"
    }
   ],
   "source": [
    "# pandas series where the index is 'features' and the values are 'coefficients'\n",
    "feat_imp = pd.Series(coefficients, index = feature_names)\n",
    "feat_imp.head()"
   ]
  },
  {
   "cell_type": "code",
   "execution_count": 25,
   "id": "6b37ec3f",
   "metadata": {},
   "outputs": [
    {
     "name": "stdout",
     "output_type": "stream",
     "text": [
      "PAY = 1.6\n",
      " + (0.28 + MOBILITY)\n",
      " + (0.2 + WORKPLACE)\n",
      " + (0.1 + PARENTHOOD)\n",
      " + (0.12 + ENTREPRENEURSHIP)\n",
      " + (0.14 + PENSION)\n"
     ]
    }
   ],
   "source": [
    "# print the equation for predicting pay\n",
    "print(f\"PAY = {intercept.round(2)}\")\n",
    "for f, c in feat_imp.items():\n",
    "    print(f\" + ({round(c, 2)} + {f})\")"
   ]
  },
  {
   "cell_type": "code",
   "execution_count": 26,
   "id": "67529a4c",
   "metadata": {},
   "outputs": [
    {
     "data": {
      "text/plain": [
       "Text(0, 0.5, 'Feature')"
      ]
     },
     "execution_count": 26,
     "metadata": {},
     "output_type": "execute_result"
    },
    {
     "data": {
      "image/png": "[encoded data removed]",
      "text/plain": [
       "<Figure size 720x504 with 1 Axes>"
      ]
     },
     "metadata": {
      "needs_background": "light"
     },
     "output_type": "display_data"
    }
   ],
   "source": [
    "# Horinzontal bar chart showing the top coeffitients for your model\n",
    "plt.figure(figsize=(10,7))\n",
    "feat_imp.sort_values(key=abs).plot(kind='barh')\n",
    "plt.title('Feature Importance for PAY Indicator')\n",
    "plt.xlabel('Importance [PAY]')\n",
    "plt.ylabel('Feature')"
   ]
  },
  {
   "cell_type": "markdown",
   "id": "49196134",
   "metadata": {},
   "source": [
    "### The top two most important of our model in predicting pay is 'Mobility' and 'Workplace'"
   ]
  },
  {
   "cell_type": "code",
   "execution_count": null,
   "id": "ab09a80b",
   "metadata": {},
   "outputs": [],
   "source": []
  }
 ],
 "metadata": {
  "kernelspec": {
   "display_name": "Python 3 (ipykernel)",
   "language": "python",
   "name": "python3"
  },
  "language_info": {
   "codemirror_mode": {
    "name": "ipython",
    "version": 3
   },
   "file_extension": ".py",
   "mimetype": "text/x-python",
   "name": "python",
   "nbconvert_exporter": "python",
   "pygments_lexer": "ipython3",
   "version": "3.9.12"
  }
 },
 "nbformat": 4,
 "nbformat_minor": 5
}
